{
 "cells": [
  {
   "cell_type": "code",
   "execution_count": null,
   "metadata": {},
   "outputs": [],
   "source": [
    "import os\n",
    "import numpy as np\n",
    "import matplotlib.pyplot as plt\n",
    "import librosa\n",
    "import librosa.display\n",
    "from IPython.display import Audio\n",
    "import echopype\n",
    "%matplotlib inline"
   ]
  },
  {
   "cell_type": "code",
   "execution_count": null,
   "metadata": {},
   "outputs": [],
   "source": [
    "CALIBRATION_BASEPATH = 'data/measurment-1/calibrations/'\n",
    "CALIBRATION_FILE_A = '230320-010-calibration-A-0dB.wav'\n",
    "CALIBRATION_FILE_B = '230320-011-calibration-B-0dB.wav'\n",
    "\n",
    "calibration_path_A = os.path.join(CALIBRATION_BASEPATH, CALIBRATION_FILE_A)\n",
    "calibration_path_B = os.path.join(CALIBRATION_BASEPATH, CALIBRATION_FILE_B)"
   ]
  },
  {
   "cell_type": "code",
   "execution_count": null,
   "metadata": {},
   "outputs": [],
   "source": [
    "AUDIO_BASEPATH = 'data/measurment-1/jumps/'\n",
    "AUDIO_FILE = '230320-009-jump-1.wav'\n",
    "#AUDIO_BASEPATH = 'data/measurment-2/raw/'\n",
    "audio_path = os.path.join(AUDIO_BASEPATH, AUDIO_FILE)"
   ]
  },
  {
   "cell_type": "code",
   "execution_count": null,
   "metadata": {},
   "outputs": [],
   "source": [
    "os.makedirs('graphs', exist_ok=True)"
   ]
  },
  {
   "cell_type": "code",
   "execution_count": null,
   "metadata": {},
   "outputs": [],
   "source": [
    "audio, sr = librosa.load(audio_path, sr=None, mono=False)\n",
    "\n",
    "length = audio.shape[1] / sr\n",
    "\n",
    "print('Audio length: {:.2f} seconds'.format(length))\n",
    "print('Sample rate: {} Hz'.format(sr))\n",
    "print('Hydrophone A')\n",
    "\n",
    "Audio(audio[0], rate=sr)"
   ]
  },
  {
   "cell_type": "code",
   "execution_count": null,
   "metadata": {},
   "outputs": [],
   "source": [
    "audio, sr = librosa.load(audio_path, sr=None, mono=False)\n",
    "\n",
    "length = audio.shape[1] / sr\n",
    "\n",
    "print('Audio length: {:.2f} seconds'.format(length))\n",
    "print('Sample rate: {} Hz'.format(sr))\n",
    "print('Hydrophone B')\n",
    "\n",
    "Audio(audio[1], rate=sr)"
   ]
  },
  {
   "cell_type": "code",
   "execution_count": null,
   "metadata": {},
   "outputs": [],
   "source": [
    "y_max = np.max(np.abs(audio)) * 1.05\n",
    "\n",
    "plt.figure(figsize=(15, 10))\n",
    "\n",
    "plt.subplot(2, 1, 1)\n",
    "librosa.display.waveshow(audio[0], sr=sr, alpha=0.5)\n",
    "plt.ylim(-y_max, y_max)\n",
    "plt.title(f'Waveform - Hydrophone A - {AUDIO_FILE}')\n",
    "plt.ylabel('Amplitude')\n",
    "\n",
    "plt.subplot(2, 1, 2)\n",
    "librosa.display.waveshow(audio[1], sr=sr, alpha=0.5)\n",
    "plt.ylim(-y_max, y_max)\n",
    "plt.title(f'Waveform - Hydrophone B - {AUDIO_FILE}')\n",
    "plt.ylabel('Amplitude')\n",
    "\n",
    "plt.tight_layout()\n",
    "\n",
    "plt.savefig(f'graphs/waveform-{AUDIO_FILE}.png', dpi=300)\n",
    "plt.show()"
   ]
  },
  {
   "cell_type": "code",
   "execution_count": null,
   "metadata": {},
   "outputs": [],
   "source": [
    "REF_EFF = 20e-5 # Pa\n",
    "CAL_SPL = 128 # dB\n",
    "\n",
    "def calculate_calibration_gain(calibration_path, ref_eff=REF_EFF, cal_spl=CAL_SPL):\n",
    "    print(f'Calibration file: {calibration_path}')\n",
    "    \n",
    "    calibration, sr = librosa.load(calibration_path, sr=None, mono=True)\n",
    "    length = calibration.shape[0] / sr\n",
    "    print(f'Calibration length: {length:.2f} seconds')\n",
    "    \n",
    "    calibration_rms = np.sqrt(np.mean(calibration**2))\n",
    "    calibration_spl = 20 * np.log10(calibration_rms / ref_eff)\n",
    "    print(f'Calibration SPL: {calibration_spl:.2f} dB')\n",
    "\n",
    "    gain_db = calibration_spl - cal_spl\n",
    "    calibration_gain = 10**(gain_db / 20)\n",
    "    print(f'Calibration gain: {gain_db:.2f} dB ({calibration_gain})', end='\\n\\n')\n",
    "    \n",
    "    return calibration_gain\n",
    "\n",
    "calibration_gain_A = calculate_calibration_gain(calibration_path_A)\n",
    "calibration_gain_B = calculate_calibration_gain(calibration_path_B)"
   ]
  },
  {
   "cell_type": "code",
   "execution_count": null,
   "metadata": {},
   "outputs": [],
   "source": [
    "NFFT = 1024\n",
    "HOP_LENGTH = 512\n",
    "TOP_DB = 80\n",
    "# , win_length= NFFT//2 \n",
    "spectrogram = librosa.stft(audio, n_fft=NFFT, hop_length=HOP_LENGTH)\n",
    "spectrogram_dB = librosa.amplitude_to_db(np.abs(spectrogram), top_db=TOP_DB, ref=1)\n",
    "# NOTE: what ref can be used here? (1, np.max, 2e-5, or what)\n",
    "\n",
    "spectrogram_dB_A = librosa.amplitude_to_db(np.abs(spectrogram[0]), top_db=TOP_DB, ref=1) - 20 * np.log10(calibration_gain_A)\n",
    "spectrogram_dB_B = librosa.amplitude_to_db(np.abs(spectrogram[1]), top_db=TOP_DB, ref=1) - 20 * np.log10(calibration_gain_B)"
   ]
  },
  {
   "cell_type": "code",
   "execution_count": null,
   "metadata": {},
   "outputs": [],
   "source": [
    "min_dB_A, max_dB_A = np.min(spectrogram_dB_A), np.max(spectrogram_dB_A)\n",
    "min_dB_B, max_dB_B = np.min(spectrogram_dB_B), np.max(spectrogram_dB_B)\n",
    "\n",
    "print(f'Hydrophone A - Min: {min_dB_A:.2f} dB, Max: {max_dB_A:.2f} dB')\n",
    "print(f'Hydrophone B - Min: {min_dB_B:.2f} dB, Max: {max_dB_B:.2f} dB')"
   ]
  },
  {
   "cell_type": "code",
   "execution_count": null,
   "metadata": {},
   "outputs": [],
   "source": [
    "plt.figure(figsize=(15, 10))\n",
    "\n",
    "# cmap should be in same range for both plots\n",
    "cmap = 'inferno'\n",
    "cmap_min = np.max([min_dB_A, min_dB_B])\n",
    "cmap_max = np.max([max_dB_A, max_dB_B])\n",
    "\n",
    "plt.subplot(2, 1, 1)\n",
    "im = librosa.display.specshow(spectrogram_dB_A, sr=sr, hop_length=HOP_LENGTH, x_axis='time', y_axis='linear', cmap='inferno', vmin=cmap_min, vmax=cmap_max)\n",
    "plt.colorbar(im, format='%+2.0f dB')\n",
    "plt.title(f'Linear Spectrogram - Hydrophone A - {AUDIO_FILE} - Calibration Gain: {20 * np.log10(calibration_gain_A):.2f} dB')\n",
    "\n",
    "\n",
    "plt.subplot(2, 1, 2)\n",
    "im = librosa.display.specshow(spectrogram_dB_B, sr=sr, hop_length=HOP_LENGTH, x_axis='time', y_axis='linear', cmap='inferno', vmin=cmap_min, vmax=cmap_max)\n",
    "plt.colorbar(im, format='%+2.0f dB')\n",
    "plt.title(f'Linear Spectrogram - Hydrophone B - {AUDIO_FILE} - Calibration Gain: {20 * np.log10(calibration_gain_B):.2f} dB')\n",
    "\n",
    "plt.tight_layout()\n",
    "\n",
    "plt.savefig(f'graphs/spectrogram-{AUDIO_FILE}.png', dpi=300)\n",
    "plt.show()"
   ]
  },
  {
   "attachments": {},
   "cell_type": "markdown",
   "metadata": {},
   "source": [
    "## Histogram of spectrograms"
   ]
  },
  {
   "cell_type": "code",
   "execution_count": null,
   "metadata": {},
   "outputs": [],
   "source": [
    "print(\"Max found dB for A = \", np.max(spectrogram_dB_A), \"Max found dB for B = \", np.max(spectrogram_dB_B))\n",
    "print(\"Min found dB for A = \", np.min(spectrogram_dB_A), \"Min found dB for B = \", np.min(spectrogram_dB_B))\n",
    "\n",
    "# Convert spectrogram for hydrohpone A and B to histogram\n",
    "# We are only interested in the DB values, not the time axis or frequency axis:\n",
    "histogram_A, bins = np.histogram(spectrogram_dB_A, bins=100, range=(min_dB_A, max_dB_A))\n",
    "histogram_B, bins = np.histogram(spectrogram_dB_B, bins=100, range=(min_dB_B, max_dB_B))\n",
    "\n",
    "# Plot the histogram\n",
    "plt.figure(figsize=(15, 10))\n",
    "\n",
    "plt.subplot(2, 1, 1)\n",
    "plt.bar(bins[:-1], histogram_A, width=np.diff(bins), align='edge')\n",
    "plt.title(f'Linear Spectrogram Histogram - Hydrophone A - {AUDIO_FILE} - Calibration Gain: {20 * np.log10(calibration_gain_A):.2f} dB')\n",
    "plt.xlabel('dB')\n",
    "plt.ylabel('Count')\n",
    "\n",
    "plt.subplot(2, 1, 2)\n",
    "plt.bar(bins[:-1], histogram_B, width=np.diff(bins), align='edge')\n",
    "plt.title(f'Linear Spectrogram Histogram - Hydrophone B - {AUDIO_FILE} - Calibration Gain: {20 * np.log10(calibration_gain_B):.2f} dB')\n",
    "plt.xlabel('dB')\n",
    "plt.ylabel('Count')\n"
   ]
  },
  {
   "cell_type": "code",
   "execution_count": null,
   "metadata": {},
   "outputs": [],
   "source": [
    "FRAME_SIZE = int(48000 * 1) # 125 ms (fast RMS)\n",
    "HOP_LENGTH = FRAME_SIZE // 2\n",
    "\n",
    "audio_rms = librosa.feature.rms(y=audio, frame_length=FRAME_SIZE, hop_length=HOP_LENGTH)\n",
    "\n",
    "audio_spl_A = librosa.amplitude_to_db(audio_rms[0], ref=1).reshape(-1) - 20 * np.log10(calibration_gain_A)\n",
    "audio_spl_B = librosa.amplitude_to_db(audio_rms[1], ref=1).reshape(-1) - 20 * np.log10(calibration_gain_B)\n",
    "\n",
    "time = librosa.times_like(audio_spl_A, sr=sr, hop_length=HOP_LENGTH)"
   ]
  },
  {
   "cell_type": "code",
   "execution_count": null,
   "metadata": {},
   "outputs": [],
   "source": [
    "plt.figure(figsize=(15, 10))\n",
    "\n",
    "plt.subplot(2, 1, 1)\n",
    "plt.plot(time, audio_spl_A, color='red')\n",
    "plt.title(f'Sound Pressure Levelv- Hydrophone A - {AUDIO_FILE} - Calibration Gain: {20 * np.log10(calibration_gain_A):.2f} dB')\n",
    "plt.xlabel('Time (s)')\n",
    "plt.ylabel('SPL (dB)')\n",
    "plt.grid()\n",
    "\n",
    "plt.subplot(2, 1, 2)\n",
    "plt.plot(time, audio_spl_B, color='red')\n",
    "plt.title(f'Sound Pressure Level - Hydrophone B - {AUDIO_FILE} - Calibration Gain: {20 * np.log10(calibration_gain_B):.2f} dB')\n",
    "plt.xlabel('Time (s)')\n",
    "plt.ylabel('SPL (dB)')\n",
    "plt.grid()\n",
    "\n",
    "plt.tight_layout()\n",
    "\n",
    "plt.savefig(f'graphs/spl-{AUDIO_FILE}.png', dpi=300)\n",
    "plt.show()"
   ]
  },
  {
   "attachments": {},
   "cell_type": "markdown",
   "metadata": {},
   "source": [
    "## Theoretical max distance between the hydrophones using speed of sound and propagation loss."
   ]
  },
  {
   "cell_type": "code",
   "execution_count": null,
   "metadata": {},
   "outputs": [],
   "source": [
    "# First, get paek dB values for each hydrophone\n",
    "peak_spl_A = np.max(audio_spl_A)\n",
    "peak_spl_B = np.max(audio_spl_B)\n",
    "print(peak_spl_A)\n",
    "# Then, get average dB values for each hydrophone\n",
    "avg_spl_A = np.mean(audio_spl_A)\n",
    "print(avg_spl_A)\n",
    "avg_spl_B = np.mean(audio_spl_B)\n",
    "\n",
    "# Compute the speed of sound\n",
    "c = echopype.utils.uwa.calc_sound_speed(temperature=5, salinity=35, pressure=0)\n",
    "print(c)\n",
    "# Compute abosoption of sound in water\n",
    "absorption = echopype.utils.uwa.calc_absorption(frequency=20000, temperature=5, salinity=35, pressure=0, formula_source = \"FG\")*1000\n",
    "print(absorption)\n",
    "# Reduce the peak dB values by the absorption until we reach the average dB values\n",
    "meter = 0\n",
    "while peak_spl_A > avg_spl_A:\n",
    "    peak_spl_A -= absorption\n",
    "    meter += 1\n",
    "print(f'Hydrophone A: {meter} m')\n"
   ]
  }
 ],
 "metadata": {
  "kernelspec": {
   "display_name": "semester-project",
   "language": "python",
   "name": "python3"
  },
  "language_info": {
   "codemirror_mode": {
    "name": "ipython",
    "version": 3
   },
   "file_extension": ".py",
   "mimetype": "text/x-python",
   "name": "python",
   "nbconvert_exporter": "python",
   "pygments_lexer": "ipython3",
   "version": "3.9.0"
  },
  "orig_nbformat": 4
 },
 "nbformat": 4,
 "nbformat_minor": 2
}

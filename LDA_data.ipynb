{
 "cells": [
  {
   "cell_type": "code",
   "execution_count": null,
   "metadata": {},
   "outputs": [],
   "source": [
    "import dataimporter_lda\n",
    "from sklearn.discriminant_analysis import LinearDiscriminantAnalysis\n",
    "import matplotlib.pyplot as plt\n",
    "import numpy as np\n",
    "import random\n"
   ]
  },
  {
   "cell_type": "code",
   "execution_count": null,
   "metadata": {},
   "outputs": [],
   "source": [
    "with open(\"data/measurment-2/CLASSES.txt\", \"r\") as classes_file:\n",
    "    classes_get = classes_file.read().splitlines()\n",
    "    classes_file.close()\n",
    "\n",
    "data_np, data_labels, data_size = dataimporter_lda.import_data(np_datapath=\"data/measurment-2/np_data_spectro\",\n",
    "                                                           np_labelpath=\"data/measurment-2/np_label_spectro\",\n",
    "                                                           datapath=\"data/measurment-2/clips/wav/\",\n",
    "                                                           labelpath=\"data/measurment-2/clips/txt/\",\n",
    "                                                           classes=classes_get)\n"
   ]
  },
  {
   "cell_type": "code",
   "execution_count": null,
   "metadata": {},
   "outputs": [],
   "source": [
    "data_flatten = np.reshape(data_np, (len(data_np), -1))\n",
    "\n",
    "LDA = LinearDiscriminantAnalysis(n_components=2)\n",
    "fitted_LDA = LDA.fit_transform(data_flatten, data_labels)\n"
   ]
  },
  {
   "cell_type": "code",
   "execution_count": null,
   "metadata": {},
   "outputs": [],
   "source": [
    "num_components = fitted_LDA.shape[1]\n",
    "fig, axs = plt.subplots(num_components, 1, figsize=(6, 3*num_components), sharex=True)\n",
    "\n",
    "for i in range(num_components):\n",
    "    axs[i].scatter(data_labels, fitted_LDA[:, i])\n",
    "    axs[i].set_ylabel(f\"Component {i+1}\")\n",
    "    axs[i].set_xticks(range(len(classes_get)))\n",
    "    axs[i].set_xticklabels(classes_get, rotation=90)\n",
    "\n",
    "plt.tight_layout()\n",
    "plt.show()\n",
    "\n",
    "fig, ax = plt.subplots()\n",
    "colors = plt.cm.tab20(np.linspace(0, 1, 15))\n",
    "\n",
    "\n",
    "for class_n in range(len(classes_get)):\n",
    "    indices = data_labels == class_n\n",
    "    ax.scatter(fitted_LDA[indices, 0], fitted_LDA[indices, 1], label=classes_get[class_n], alpha=0.5, c=colors[class_n])\n",
    "\n",
    "ax.set_xlabel('LDA Component 1')\n",
    "ax.set_ylabel('LDA Component 2')\n",
    "\n",
    "ax.legend()\n",
    "plt.show()\n"
   ]
  }
 ],
 "metadata": {
  "kernelspec": {
   "display_name": "university",
   "language": "python",
   "name": "python3"
  },
  "language_info": {
   "codemirror_mode": {
    "name": "ipython",
    "version": 3
   },
   "file_extension": ".py",
   "mimetype": "text/x-python",
   "name": "python",
   "nbconvert_exporter": "python",
   "pygments_lexer": "ipython3",
   "version": "3.9.13"
  },
  "orig_nbformat": 4
 },
 "nbformat": 4,
 "nbformat_minor": 2
}
